{
 "cells": [
  {
   "cell_type": "markdown",
   "id": "5a80a398-82e9-4ee8-8bad-fd5ac52f4af6",
   "metadata": {},
   "source": [
    "# ANKIT KUMAR - ML - Data Preprocessing Outlier Detection and Feature Engineering"
   ]
  },
  {
   "cell_type": "code",
   "execution_count": 7,
   "id": "c2f4e445-6014-4714-9301-5d9c81a9faf7",
   "metadata": {},
   "outputs": [],
   "source": [
    "import pandas as pd\n",
    "import matplotlib.pyplot as plt\n",
    "import seaborn as sns"
   ]
  },
  {
   "cell_type": "markdown",
   "id": "839edd54-6103-40b2-a4a9-208b7a098346",
   "metadata": {},
   "source": [
    "# Tasks:\n",
    "# Load and Explore the Dataset:"
   ]
  },
  {
   "cell_type": "code",
   "execution_count": 2,
   "id": "9db9773a-1dec-41a2-95cb-68c735305355",
   "metadata": {},
   "outputs": [],
   "source": [
    "#Load Dataset\n",
    "df=pd.read_csv(r'D:\\Downloads\\swedish_insurance.csv')"
   ]
  },
  {
   "cell_type": "code",
   "execution_count": 3,
   "id": "8203ee3d-bc77-4de6-8a46-de8572eb4182",
   "metadata": {},
   "outputs": [
    {
     "data": {
      "text/html": [
       "<div>\n",
       "<style scoped>\n",
       "    .dataframe tbody tr th:only-of-type {\n",
       "        vertical-align: middle;\n",
       "    }\n",
       "\n",
       "    .dataframe tbody tr th {\n",
       "        vertical-align: top;\n",
       "    }\n",
       "\n",
       "    .dataframe thead th {\n",
       "        text-align: right;\n",
       "    }\n",
       "</style>\n",
       "<table border=\"1\" class=\"dataframe\">\n",
       "  <thead>\n",
       "    <tr style=\"text-align: right;\">\n",
       "      <th></th>\n",
       "      <th>X</th>\n",
       "      <th>Y</th>\n",
       "    </tr>\n",
       "  </thead>\n",
       "  <tbody>\n",
       "    <tr>\n",
       "      <th>0</th>\n",
       "      <td>108</td>\n",
       "      <td>392.5</td>\n",
       "    </tr>\n",
       "    <tr>\n",
       "      <th>1</th>\n",
       "      <td>19</td>\n",
       "      <td>46.2</td>\n",
       "    </tr>\n",
       "    <tr>\n",
       "      <th>2</th>\n",
       "      <td>13</td>\n",
       "      <td>15.7</td>\n",
       "    </tr>\n",
       "    <tr>\n",
       "      <th>3</th>\n",
       "      <td>124</td>\n",
       "      <td>422.2</td>\n",
       "    </tr>\n",
       "    <tr>\n",
       "      <th>4</th>\n",
       "      <td>40</td>\n",
       "      <td>119.4</td>\n",
       "    </tr>\n",
       "    <tr>\n",
       "      <th>5</th>\n",
       "      <td>57</td>\n",
       "      <td>170.9</td>\n",
       "    </tr>\n",
       "    <tr>\n",
       "      <th>6</th>\n",
       "      <td>23</td>\n",
       "      <td>56.9</td>\n",
       "    </tr>\n",
       "    <tr>\n",
       "      <th>7</th>\n",
       "      <td>14</td>\n",
       "      <td>77.5</td>\n",
       "    </tr>\n",
       "    <tr>\n",
       "      <th>8</th>\n",
       "      <td>45</td>\n",
       "      <td>214.0</td>\n",
       "    </tr>\n",
       "    <tr>\n",
       "      <th>9</th>\n",
       "      <td>10</td>\n",
       "      <td>65.3</td>\n",
       "    </tr>\n",
       "  </tbody>\n",
       "</table>\n",
       "</div>"
      ],
      "text/plain": [
       "     X      Y\n",
       "0  108  392.5\n",
       "1   19   46.2\n",
       "2   13   15.7\n",
       "3  124  422.2\n",
       "4   40  119.4\n",
       "5   57  170.9\n",
       "6   23   56.9\n",
       "7   14   77.5\n",
       "8   45  214.0\n",
       "9   10   65.3"
      ]
     },
     "execution_count": 3,
     "metadata": {},
     "output_type": "execute_result"
    }
   ],
   "source": [
    "#First 10 rows of the dataset\n",
    "df.head(10)"
   ]
  },
  {
   "cell_type": "code",
   "execution_count": 4,
   "id": "c36bc0aa-7188-4dfd-8dd3-6740ad7837bb",
   "metadata": {},
   "outputs": [
    {
     "name": "stdout",
     "output_type": "stream",
     "text": [
      "<class 'pandas.core.frame.DataFrame'>\n",
      "RangeIndex: 63 entries, 0 to 62\n",
      "Data columns (total 2 columns):\n",
      " #   Column  Non-Null Count  Dtype  \n",
      "---  ------  --------------  -----  \n",
      " 0   X       63 non-null     int64  \n",
      " 1   Y       63 non-null     float64\n",
      "dtypes: float64(1), int64(1)\n",
      "memory usage: 1.1 KB\n"
     ]
    }
   ],
   "source": [
    "df.info()"
   ]
  },
  {
   "cell_type": "code",
   "execution_count": 5,
   "id": "48654090-08e5-45d2-9700-2c420ec78da3",
   "metadata": {},
   "outputs": [
    {
     "data": {
      "text/html": [
       "<div>\n",
       "<style scoped>\n",
       "    .dataframe tbody tr th:only-of-type {\n",
       "        vertical-align: middle;\n",
       "    }\n",
       "\n",
       "    .dataframe tbody tr th {\n",
       "        vertical-align: top;\n",
       "    }\n",
       "\n",
       "    .dataframe thead th {\n",
       "        text-align: right;\n",
       "    }\n",
       "</style>\n",
       "<table border=\"1\" class=\"dataframe\">\n",
       "  <thead>\n",
       "    <tr style=\"text-align: right;\">\n",
       "      <th></th>\n",
       "      <th>X</th>\n",
       "      <th>Y</th>\n",
       "    </tr>\n",
       "  </thead>\n",
       "  <tbody>\n",
       "    <tr>\n",
       "      <th>count</th>\n",
       "      <td>63.000000</td>\n",
       "      <td>63.000000</td>\n",
       "    </tr>\n",
       "    <tr>\n",
       "      <th>mean</th>\n",
       "      <td>22.904762</td>\n",
       "      <td>98.187302</td>\n",
       "    </tr>\n",
       "    <tr>\n",
       "      <th>std</th>\n",
       "      <td>23.351946</td>\n",
       "      <td>87.327553</td>\n",
       "    </tr>\n",
       "    <tr>\n",
       "      <th>min</th>\n",
       "      <td>0.000000</td>\n",
       "      <td>0.000000</td>\n",
       "    </tr>\n",
       "    <tr>\n",
       "      <th>25%</th>\n",
       "      <td>7.500000</td>\n",
       "      <td>38.850000</td>\n",
       "    </tr>\n",
       "    <tr>\n",
       "      <th>50%</th>\n",
       "      <td>14.000000</td>\n",
       "      <td>73.400000</td>\n",
       "    </tr>\n",
       "    <tr>\n",
       "      <th>75%</th>\n",
       "      <td>29.000000</td>\n",
       "      <td>140.000000</td>\n",
       "    </tr>\n",
       "    <tr>\n",
       "      <th>max</th>\n",
       "      <td>124.000000</td>\n",
       "      <td>422.200000</td>\n",
       "    </tr>\n",
       "  </tbody>\n",
       "</table>\n",
       "</div>"
      ],
      "text/plain": [
       "                X           Y\n",
       "count   63.000000   63.000000\n",
       "mean    22.904762   98.187302\n",
       "std     23.351946   87.327553\n",
       "min      0.000000    0.000000\n",
       "25%      7.500000   38.850000\n",
       "50%     14.000000   73.400000\n",
       "75%     29.000000  140.000000\n",
       "max    124.000000  422.200000"
      ]
     },
     "execution_count": 5,
     "metadata": {},
     "output_type": "execute_result"
    }
   ],
   "source": [
    "df.describe()"
   ]
  },
  {
   "cell_type": "markdown",
   "id": "217a1418-de2e-4d03-b284-967669568fe0",
   "metadata": {},
   "source": [
    "Visualize the data using box plots and scatter plots."
   ]
  },
  {
   "cell_type": "code",
   "execution_count": 12,
   "id": "65630f7b-96f0-4a4d-8c5b-e63a59d52beb",
   "metadata": {},
   "outputs": [
    {
     "data": {
      "image/png": "[encoded data removed]",
      "text/plain": [
       "<Figure size 800x600 with 1 Axes>"
      ]
     },
     "metadata": {},
     "output_type": "display_data"
    }
   ],
   "source": [
    "# Scatter Plot: Number of Claims vs Total Payment\n",
    "plt.figure(figsize=(8, 6))\n",
    "sns.scatterplot(data=df, x='X', y='Y', color='blue')\n",
    "plt.title('Scatter Plot: Number of Claims vs Total Payment')\n",
    "plt.xlabel('Number of Claims')\n",
    "plt.ylabel('Total Payment')\n",
    "plt.show()\n"
   ]
  },
  {
   "cell_type": "code",
   "execution_count": 15,
   "id": "1acc8a5c-7044-4081-bf9f-854ffb0e2b8c",
   "metadata": {},
   "outputs": [
    {
     "data": {
      "image/png": "[encoded data removed]",
      "text/plain": [
       "<Figure size 1400x500 with 2 Axes>"
      ]
     },
     "metadata": {},
     "output_type": "display_data"
    }
   ],
   "source": [
    "# Box Plots for both columns\n",
    "plt.figure(figsize=(14, 5))\n",
    "\n",
    "# Box plot for Claims\n",
    "plt.subplot(1, 2, 1)\n",
    "sns.boxplot(y=df['X'], color='skyblue')\n",
    "plt.title('Box Plot - Number of Claims')\n",
    "\n",
    "# Box plot for Payments\n",
    "plt.subplot(1, 2, 2)\n",
    "sns.boxplot(y=df['Y'], color='lightgreen')\n",
    "plt.title('Box Plot - Total Payment')\n",
    "\n",
    "plt.tight_layout()\n",
    "plt.show()"
   ]
  },
  {
   "cell_type": "markdown",
   "id": "1bec8c34-e279-46e6-a5bd-8b99061f9bd5",
   "metadata": {},
   "source": [
    "# Calculate Statistical Properties:"
   ]
  },
  {
   "cell_type": "markdown",
   "id": "60656a49-1ab0-4506-aaa8-3f51e5cdc737",
   "metadata": {},
   "source": [
    ">Calculate the mean and variance for both the number of claims (X) and the total payment (Y)."
   ]
  },
  {
   "cell_type": "code",
   "execution_count": 18,
   "id": "20a2d32f-3ea7-46ca-abff-4f73794fb0c1",
   "metadata": {},
   "outputs": [
    {
     "name": "stdout",
     "output_type": "stream",
     "text": [
      " Mean of X (Claims): 22.904761904761905\n",
      " Mean of Y (Payments): 98.18730158730159\n",
      " Variance of X (Claims): 545.3133640552995\n",
      " Variance of Y (Payments): 7626.101449052739\n"
     ]
    }
   ],
   "source": [
    "# Extract X and Y values\n",
    "X = df['X']\n",
    "Y = df['Y']\n",
    "\n",
    "#  Calculate Mean\n",
    "mean_X = X.mean()\n",
    "mean_Y = Y.mean()\n",
    "\n",
    "print(f\" Mean of X (Claims): {mean_X}\")\n",
    "print(f\" Mean of Y (Payments): {mean_Y}\")\n",
    "\n",
    "#  Calculate Variance\n",
    "var_X = X.var()\n",
    "var_Y = Y.var()\n",
    "\n",
    "print(f\" Variance of X (Claims): {var_X}\")\n",
    "print(f\" Variance of Y (Payments): {var_Y}\")"
   ]
  },
  {
   "cell_type": "markdown",
   "id": "3e115078-a194-4630-9620-9f9264a18951",
   "metadata": {},
   "source": [
    ">Write code to calculate covariance between X and Y."
   ]
  },
  {
   "cell_type": "code",
   "execution_count": 22,
   "id": "ac460304-2a19-4f1e-ad6c-163f8ae3a67a",
   "metadata": {},
   "outputs": [
    {
     "name": "stdout",
     "output_type": "stream",
     "text": [
      " Covariance between X and Y: 1861.6036098310294\n"
     ]
    }
   ],
   "source": [
    "#  Calculate Covariance\n",
    "cov_XY = (lambda x, y: ((x - x.mean()) * (y - y.mean())).sum() / (len(x) - 1))(X, Y)\n",
    "print(f\" Covariance between X and Y: {cov_XY}\")\n"
   ]
  },
  {
   "cell_type": "markdown",
   "id": "8ab2a1c2-52bb-4860-85af-21634f744bf3",
   "metadata": {},
   "source": [
    "# Estimate Coefficients:\n",
    ">Estimate the coefficients b0 and b1 for the simple linear regression model using the calculated mean, variance, and covariance."
   ]
  },
  {
   "cell_type": "code",
   "execution_count": 24,
   "id": "dd9b4147-734c-49f6-bd79-548622635b4d",
   "metadata": {},
   "outputs": [
    {
     "name": "stdout",
     "output_type": "stream",
     "text": [
      " Estimated Coefficients:\n",
      " Slope (b1): 3.413823560066367\n",
      " Intercept (b0): 19.99448575911481\n"
     ]
    }
   ],
   "source": [
    "# Estimate coefficients\n",
    "b1 = cov_XY / var_X\n",
    "b0 = mean_Y - b1 * mean_X\n",
    "\n",
    "# Output\n",
    "print(f\" Estimated Coefficients:\")\n",
    "print(f\" Slope (b1): {b1}\")\n",
    "print(f\" Intercept (b0): {b0}\")"
   ]
  },
  {
   "cell_type": "markdown",
   "id": "952175ab-f266-4902-8396-6fc9dfdf56d2",
   "metadata": {},
   "source": [
    "# Make Predictions:\n",
    ">Use the estimated coefficients to make predictions (Y_hat) for the dataset.\n"
   ]
  },
  {
   "cell_type": "code",
   "execution_count": 26,
   "id": "c48cf18d-4c8f-4b12-816d-31da76eb7372",
   "metadata": {},
   "outputs": [],
   "source": [
    "Y_hat = b0 + b1 * X"
   ]
  },
  {
   "cell_type": "markdown",
   "id": "3c09ed40-c196-4869-b7f2-cc7e1d56fa46",
   "metadata": {},
   "source": [
    ">Compare the predicted values (Y_hat) with the actual values (Y)."
   ]
  },
  {
   "cell_type": "code",
   "execution_count": 32,
   "id": "0d2b2644-1877-4596-aa2e-cf08dd053010",
   "metadata": {},
   "outputs": [
    {
     "name": "stdout",
     "output_type": "stream",
     "text": [
      " Actual vs Predicted Values:\n"
     ]
    },
    {
     "data": {
      "text/html": [
       "<div>\n",
       "<style scoped>\n",
       "    .dataframe tbody tr th:only-of-type {\n",
       "        vertical-align: middle;\n",
       "    }\n",
       "\n",
       "    .dataframe tbody tr th {\n",
       "        vertical-align: top;\n",
       "    }\n",
       "\n",
       "    .dataframe thead th {\n",
       "        text-align: right;\n",
       "    }\n",
       "</style>\n",
       "<table border=\"1\" class=\"dataframe\">\n",
       "  <thead>\n",
       "    <tr style=\"text-align: right;\">\n",
       "      <th></th>\n",
       "      <th>Actual Y</th>\n",
       "      <th>Predicted Y</th>\n",
       "    </tr>\n",
       "  </thead>\n",
       "  <tbody>\n",
       "    <tr>\n",
       "      <th>0</th>\n",
       "      <td>392.5</td>\n",
       "      <td>388.687430</td>\n",
       "    </tr>\n",
       "    <tr>\n",
       "      <th>1</th>\n",
       "      <td>46.2</td>\n",
       "      <td>84.857133</td>\n",
       "    </tr>\n",
       "    <tr>\n",
       "      <th>2</th>\n",
       "      <td>15.7</td>\n",
       "      <td>64.374192</td>\n",
       "    </tr>\n",
       "    <tr>\n",
       "      <th>3</th>\n",
       "      <td>422.2</td>\n",
       "      <td>443.308607</td>\n",
       "    </tr>\n",
       "    <tr>\n",
       "      <th>4</th>\n",
       "      <td>119.4</td>\n",
       "      <td>156.547428</td>\n",
       "    </tr>\n",
       "    <tr>\n",
       "      <th>5</th>\n",
       "      <td>170.9</td>\n",
       "      <td>214.582429</td>\n",
       "    </tr>\n",
       "    <tr>\n",
       "      <th>6</th>\n",
       "      <td>56.9</td>\n",
       "      <td>98.512428</td>\n",
       "    </tr>\n",
       "    <tr>\n",
       "      <th>7</th>\n",
       "      <td>77.5</td>\n",
       "      <td>67.788016</td>\n",
       "    </tr>\n",
       "    <tr>\n",
       "      <th>8</th>\n",
       "      <td>214.0</td>\n",
       "      <td>173.616546</td>\n",
       "    </tr>\n",
       "    <tr>\n",
       "      <th>9</th>\n",
       "      <td>65.3</td>\n",
       "      <td>54.132721</td>\n",
       "    </tr>\n",
       "  </tbody>\n",
       "</table>\n",
       "</div>"
      ],
      "text/plain": [
       "   Actual Y  Predicted Y\n",
       "0     392.5   388.687430\n",
       "1      46.2    84.857133\n",
       "2      15.7    64.374192\n",
       "3     422.2   443.308607\n",
       "4     119.4   156.547428\n",
       "5     170.9   214.582429\n",
       "6      56.9    98.512428\n",
       "7      77.5    67.788016\n",
       "8     214.0   173.616546\n",
       "9      65.3    54.132721"
      ]
     },
     "execution_count": 32,
     "metadata": {},
     "output_type": "execute_result"
    }
   ],
   "source": [
    "#  Create a comparison DataFrame\n",
    "comparison_df = pd.DataFrame({\n",
    "    'Actual Y': Y,\n",
    "    'Predicted Y': Y_hat})\n",
    "\n",
    "# Display the first 10 comparisons\n",
    "print(\" Actual vs Predicted Values:\")\n",
    "comparison_df.head(10)"
   ]
  },
  {
   "cell_type": "markdown",
   "id": "e49ea9fb-8a25-4f18-8ad9-85fc47587329",
   "metadata": {},
   "source": [
    "# Visual Comparison:\n",
    ">Plot the original data points and the regression line on the same graph to visualize the accuracy of the predictions."
   ]
  },
  {
   "cell_type": "code",
   "execution_count": 42,
   "id": "48b925bb-9ed1-4959-aba5-db315a12849e",
   "metadata": {},
   "outputs": [
    {
     "data": {
      "image/png": "[encoded data removed]",
      "text/plain": [
       "<Figure size 1000x500 with 1 Axes>"
      ]
     },
     "metadata": {},
     "output_type": "display_data"
    }
   ],
   "source": [
    "plt.figure(figsize=(10,5 ))\n",
    "\n",
    "# Scatter plot of actual data\n",
    "plt.scatter(X, Y, label='Actual Data')\n",
    "\n",
    "# Regression line\n",
    "plt.plot(X, Y_hat, color='green', label='Regression Line')\n",
    "\n",
    "# Labels and title\n",
    "plt.xlabel('Number of Claims (X)')\n",
    "plt.ylabel('Total Payment (Y)')\n",
    "plt.title('Actual vs Predicted (Regression Line)')\n",
    "plt.legend()\n",
    "\n",
    "plt.show()"
   ]
  },
  {
   "cell_type": "markdown",
   "id": "10dd68e7-47d4-4903-9d53-4e3377b75990",
   "metadata": {},
   "source": [
    "# THE END"
   ]
  },
  {
   "cell_type": "code",
   "execution_count": null,
   "id": "c6e577ff-a1ec-460b-98a3-cc79bf7256b5",
   "metadata": {},
   "outputs": [],
   "source": []
  }
 ],
 "metadata": {
  "kernelspec": {
   "display_name": "Python 3 (ipykernel)",
   "language": "python",
   "name": "python3"
  },
  "language_info": {
   "codemirror_mode": {
    "name": "ipython",
    "version": 3
   },
   "file_extension": ".py",
   "mimetype": "text/x-python",
   "name": "python",
   "nbconvert_exporter": "python",
   "pygments_lexer": "ipython3",
   "version": "3.12.7"
  }
 },
 "nbformat": 4,
 "nbformat_minor": 5
}
